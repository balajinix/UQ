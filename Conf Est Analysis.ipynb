{
 "cells": [
  {
   "cell_type": "markdown",
   "metadata": {},
   "source": [
    "# NOTEBOOK FOR ANALYSIS ON CONFIDENCE ESTIMATES\n",
    "\n",
    "This is a notebook to investigate confidence estimation for UQ related work"
   ]
  },
  {
   "cell_type": "code",
   "execution_count": 1,
   "metadata": {},
   "outputs": [],
   "source": [
    "#from datetime import date\n",
    "#import itertools\n",
    "#import os\n",
    "#import pickle\n",
    "#import numpy as np\n",
    "\n",
    "#import jsonlines\n",
    "#import pandas as pd\n",
    "#import sys\n",
    "\n",
    "#import json\n",
    "#import warnings\n",
    "#import requests\n",
    "\n",
    "import time\n",
    "import os\n",
    "import json\n",
    "import pprint\n",
    "pp = pprint.PrettyPrinter(indent=4)\n",
    "import sampling\n",
    "import numpy as np\n",
    "import random\n",
    "\n",
    "#from datasets import load_dataset\n",
    "#from evaluate import load\n",
    "#exact_match_metric = load(\"exact_match\")\n",
    "\n",
    "import evaluation\n",
    "import uq_from_similarity\n",
    "\n",
    "from sklearn.linear_model import LogisticRegression\n",
    "\n",
    "import matplotlib.pyplot as plt\n",
    "# MatPlot inline magic and plot prettification\n",
    "#%matplotlib inline\n",
    "#matplotlib.style.use('seaborn-whitegrid')\n",
    "#font = {'size'   : 22}\n",
    "#matplotlib.rc('font', **font)\n",
    "\n",
    "# Widen the notebook...\n",
    "#from IPython.core.display import display, HTML\n",
    "#display(HTML(\"<style>.container { width:95% !important; }</style>\"))\n",
    "\n",
    "#pip install sentence_transformers"
   ]
  },
  {
   "cell_type": "markdown",
   "metadata": {},
   "source": [
    "### Load Data"
   ]
  },
  {
   "cell_type": "code",
   "execution_count": 2,
   "metadata": {},
   "outputs": [],
   "source": [
    "# load data\n",
    "dataset = 'spider_codellama'\n",
    "\n",
    "#dataset = 'spider_granite'\n",
    "\n",
    "#dataset = 'spider_deepseeker'\n",
    "\n",
    "dataset = 'spider_realistic_codellama'\n",
    "\n",
    "sampling_type = 'temp_first'\n",
    "#sampling_type = 'temp_all'\n",
    "split = 'dev'\n",
    "#split = 'test'\n",
    "temperature = None\n",
    "\n",
    "#sampling_type = 'standard'\n",
    "#temperature = '0.25'\n",
    "#temperature = '1.0'\n",
    "\n",
    "if dataset == 'spider_codellama' or dataset == 'spider_granite' or dataset == 'spider_realistic_codellama':\n",
    "    samples_data = \\\n",
    "    evaluation.load_and_process_samples_data_spider_codellama_fewshot(dataset, sampling_type, split, temperature)\n",
    "elif dataset == 'spider_deepseeker':\n",
    "    samples_data = evaluation.load_and_process_samples_data_spider_deepseeker(sampling_type)    \n"
   ]
  },
  {
   "cell_type": "code",
   "execution_count": 3,
   "metadata": {},
   "outputs": [],
   "source": [
    "# split it once\n",
    "frac_test = 0.5\n",
    "\n",
    "num_queries = len(samples_data)\n",
    "num_instances_test_set = int(np.floor(frac_test * num_queries))\n",
    "num_instances_valid_set = num_queries - num_instances_test_set\n",
    "\n",
    "SEED = 10\n",
    "random.seed(SEED)\n",
    "\n",
    "indices_queries = list(range(num_queries))\n",
    "random.shuffle(indices_queries)\n",
    "samples_data_valid = [samples_data[i] for i in indices_queries[:num_instances_valid_set]]\n",
    "samples_data_test = [samples_data[i] for i in indices_queries[num_instances_valid_set:]]"
   ]
  },
  {
   "cell_type": "code",
   "execution_count": 4,
   "metadata": {},
   "outputs": [
    {
     "data": {
      "text/plain": [
       "254"
      ]
     },
     "execution_count": 4,
     "metadata": {},
     "output_type": "execute_result"
    }
   ],
   "source": [
    "len(samples_data_test)"
   ]
  },
  {
   "cell_type": "code",
   "execution_count": 5,
   "metadata": {},
   "outputs": [
    {
     "data": {
      "text/plain": [
       "{'question': 'How many flights depart from APG?',\n",
       " 'gt_sql': 'select count(*) from flights where sourceairport = \"apg\"',\n",
       " 'samples': [{'gen_sql': 'select count(*) as num_flights from flights where source_airport = \"apg\"',\n",
       "   'exec_acc': 0,\n",
       "   'score': -0.1614285},\n",
       "  {'gen_sql': 'select count(*) as numflights from flights where source_airport = \"apg\"',\n",
       "   'exec_acc': 0,\n",
       "   'score': -0.16566785},\n",
       "  {'gen_sql': 'select count(distinct flightno) as numflights from flights where sourceairport = \"apg\"',\n",
       "   'exec_acc': 1,\n",
       "   'score': -0.27437829},\n",
       "  {'gen_sql': 'select count(*) from flights where source_airport = \"apg\"',\n",
       "   'exec_acc': 0,\n",
       "   'score': -0.21395384},\n",
       "  {'gen_sql': 'select count(*) from flights where source_airport = \"apg\"',\n",
       "   'exec_acc': 0,\n",
       "   'score': -0.2013805},\n",
       "  {'gen_sql': 'here is a query to', 'exec_acc': 0, 'score': -8.52260644}]}"
      ]
     },
     "execution_count": 5,
     "metadata": {},
     "output_type": "execute_result"
    }
   ],
   "source": [
    "samples_data_test[0]"
   ]
  },
  {
   "cell_type": "code",
   "execution_count": null,
   "metadata": {},
   "outputs": [],
   "source": []
  },
  {
   "cell_type": "code",
   "execution_count": null,
   "metadata": {},
   "outputs": [],
   "source": []
  },
  {
   "cell_type": "code",
   "execution_count": null,
   "metadata": {},
   "outputs": [],
   "source": []
  },
  {
   "cell_type": "code",
   "execution_count": null,
   "metadata": {},
   "outputs": [],
   "source": [
    "# inputs \n",
    "\n",
    "num_bins = 10\n",
    "#eps = 0.0001\n",
    "#eps = 0\n",
    "\n",
    "eps = 0.000001\n",
    "\n",
    "\n",
    "#setting = 'gens|jaccard|agg-arith'\n",
    "#setting = 'gens|jaccard|bayes-post:mixed'\n",
    "\n",
    "#setting = 'gens|jaccard|bayes-post:beta'\n",
    "\n",
    "#setting = 'gens|jaccard|clf:lr'\n",
    "setting = 'gens|jaccard|clf:rf'\n",
    "#setting = 'gens|jaccard|clf:qda'\n",
    "#setting = 'gens|jaccard|clf:svm'\n",
    "\n",
    "\n",
    "#setting = 'gens|sbert|clf:lr'\n",
    "\n",
    "\n",
    "#setting = 'gens|aligon|agg-arith'\n",
    "\n",
    "sim_type, uq_type = setting.split('|')[1], setting.split('|')[2]\n"
   ]
  },
  {
   "cell_type": "code",
   "execution_count": null,
   "metadata": {},
   "outputs": [],
   "source": [
    "sim_type"
   ]
  },
  {
   "cell_type": "code",
   "execution_count": null,
   "metadata": {},
   "outputs": [],
   "source": [
    "#sim_dict = {}\n",
    "\n",
    "dataset = 'codellama'\n",
    "sim_dict = uq_from_similarity.prep_and_save_sim_dict_ettubench(dataset, sim_type, save_bool=False)"
   ]
  },
  {
   "cell_type": "code",
   "execution_count": null,
   "metadata": {},
   "outputs": [],
   "source": [
    "#len(sim_dict['Find the minimum grade of students who have no friends.'])\n",
    "for q in sim_dict:\n",
    "    print(len(sim_dict[q]))"
   ]
  },
  {
   "cell_type": "code",
   "execution_count": null,
   "metadata": {},
   "outputs": [],
   "source": [
    "\n",
    "split_index = None # doesn't matter for now -- only used to hardcode bayes_mix case\n",
    "\n",
    "bayes_param_dict = {}\n",
    "clf = None\n",
    "sim_dict = {}\n",
    "\n",
    "\n",
    "if 'bayes' in uq_type:\n",
    "    # prepare data and fit model\n",
    "    bayes_type = uq_type.split('-')[1]\n",
    "    sim_dist_type = bayes_type.split(':')[1]\n",
    "    \n",
    "    acc_list_full, beta_data_given_correct, beta_data_given_incorrect, _ = \\\n",
    "        uq_from_similarity.prepare_bayes_data(samples_data_valid, sim_type, eps)\n",
    "    p = np.mean(acc_list_full)\n",
    "    \n",
    "    bayes_param_dict = \\\n",
    "    uq_from_similarity.prepare_bayes_param_dict(split_index, uq_type, sim_dist_type, \n",
    "                                                beta_data_given_correct, beta_data_given_incorrect, eps)\n",
    "    bayes_param_dict['p'] = p\n",
    "elif 'clf' in uq_type:\n",
    "    \n",
    "    # prepare data and fit classifier\n",
    "    clf_type = uq_type.split(':')[1]\n",
    "    \n",
    "    acc_list_full, X = \\\n",
    "    uq_from_similarity.prepare_clf_data(samples_data_valid, sim_type, sim_dict, eps)\n",
    "    clf = uq_from_similarity.fit_classifier(acc_list_full, X, clf_type)\n",
    "\n",
    "    \n",
    "conf_dict = uq_from_similarity.prepare_conf_dict(samples_data_test, sim_type, sim_dict, uq_type, bayes_param_dict, clf, eps)"
   ]
  },
  {
   "cell_type": "code",
   "execution_count": null,
   "metadata": {},
   "outputs": [],
   "source": [
    "conf_dict"
   ]
  },
  {
   "cell_type": "code",
   "execution_count": null,
   "metadata": {},
   "outputs": [],
   "source": [
    "clf.coef_"
   ]
  },
  {
   "cell_type": "code",
   "execution_count": null,
   "metadata": {},
   "outputs": [],
   "source": [
    "clf.intercept_"
   ]
  },
  {
   "cell_type": "code",
   "execution_count": null,
   "metadata": {},
   "outputs": [],
   "source": [
    "clf.score(X, acc_list_full)"
   ]
  },
  {
   "cell_type": "code",
   "execution_count": null,
   "metadata": {},
   "outputs": [],
   "source": [
    "# test\n",
    "acc_list_full_test, X_test = \\\n",
    "uq_from_similarity.prepare_log_reg_data(samples_data_test, sim_type, eps)\n",
    "clf.score(X_test, acc_list_full_test)\n",
    "\n"
   ]
  },
  {
   "cell_type": "markdown",
   "metadata": {},
   "source": [
    "\n",
    "with sorting\n",
    "\n",
    "dev: 0.7994842037395229\n",
    "test: 0.718568665377176\n",
    "\n",
    "w/o sorting\n",
    "\n",
    "dev: 0.7959381044487428\n",
    "test: 0.7237266279819471\n",
    "\n",
    "w/o skipping:\n",
    "\n",
    "dev: 0.7875564152159897\n",
    "test: 0.7230818826563508\n",
    "\n",
    "\n",
    "only using mean of sims:\n",
    "\n",
    "dev: 0.7882011605415861\n",
    "test: 0.7205029013539652\n",
    "\n",
    "as above but no intercept:\n",
    "\n",
    "dev: 0.7956157317859446\n",
    "test: 0.7198581560283688\n",
    "\n",
    "mean of sims but no logit:\n",
    "\n",
    "dev: 0.7840103159252095\n",
    "test: 0.721792392005158\n",
    "\n",
    "all off diag sims:\n",
    "dev: 0.7756286266924565\n",
    "test: 0.7005157962604771\n",
    "\n",
    "\n",
    "regular (skipping i) plus mean sim over all:\n",
    "\n",
    "dev: 0.8001289490651193\n",
    "test: 0.7243713733075435\n",
    "\n"
   ]
  },
  {
   "cell_type": "code",
   "execution_count": null,
   "metadata": {},
   "outputs": [],
   "source": [
    "conf_dict"
   ]
  },
  {
   "cell_type": "code",
   "execution_count": null,
   "metadata": {},
   "outputs": [],
   "source": [
    "num_bins = 5\n",
    "\n",
    "num_queries = len(samples_data_test)\n",
    "num_samples = len(samples_data_test[0]['samples'])\n",
    "\n",
    "indices_of_interest = [0]\n",
    "\n",
    "for sample_index in indices_of_interest:\n",
    "    print('sample index:', sample_index)\n",
    "    accuracy_list = \\\n",
    "    [samples_data_test[query_index]['samples'][sample_index]['exec_acc'] for query_index in range(num_queries)]\n",
    "    conf_list = [conf_dict[query_index][sample_index] for query_index in range(num_queries)]\n",
    "    auroc, auarc, ece, ace, rmsce = evaluation.evaluate_metrics(accuracy_list, conf_list, num_bins)\n",
    "    \n",
    "    print('auroc:', auroc)\n",
    "    print('auarc:', auarc)\n",
    "    print('ece:', ece)\n",
    "    print('ace:', ace)\n",
    "    print('rmsce:', rmsce)\n",
    "    print('\\n')\n"
   ]
  },
  {
   "cell_type": "code",
   "execution_count": null,
   "metadata": {},
   "outputs": [],
   "source": [
    "# separate out confidences samples\n",
    "\n",
    "conf_correct = [conf_list[i] for i in range(len(conf_list)) if accuracy_list[i] == 1]\n",
    "conf_incorrect = [conf_list[i] for i in range(len(conf_list)) if accuracy_list[i] != 1]\n",
    "\n",
    "print(len(conf_correct))\n",
    "print(len(conf_incorrect))\n"
   ]
  },
  {
   "cell_type": "code",
   "execution_count": null,
   "metadata": {},
   "outputs": [],
   "source": [
    "# plot histograms\n",
    "def plot_histograms(x, y, title, xlabel):\n",
    "    \n",
    "    bins = np.linspace(0, 1, 30)\n",
    "    plt.hist(x, bins, alpha=0.5, label='Correct', color = 'blue', edgecolor = 'black')\n",
    "    plt.hist(y, bins, alpha=0.5, label='Incorrect', color = 'green', edgecolor = 'black')\n",
    "    \n",
    "    #plt.ylim(0, 50)\n",
    "    \n",
    "    plt.title(title)\n",
    "    plt.legend(loc='upper right')\n",
    "    plt.xlabel(xlabel)\n",
    "    plt.show()\n",
    "    "
   ]
  },
  {
   "cell_type": "code",
   "execution_count": null,
   "metadata": {},
   "outputs": [],
   "source": [
    "x = conf_correct\n",
    "y = conf_incorrect\n",
    "\n",
    "#plt.style.use('seaborn-deep')\n",
    "\n",
    "title = 'spi-dev,sample ' + str(indices_of_interest[0]+1) + ',' + sampling_type + ': ' + setting\n",
    "xlabel = 'auroc: ' + str(round(auroc,2)) + '; auarc: ' + str(round(auarc,2))\n",
    "\n",
    "plot_histograms(x, y, title, xlabel)"
   ]
  },
  {
   "cell_type": "markdown",
   "metadata": {},
   "source": [
    "### Check by distinguishing whether at least 1 correct or not"
   ]
  },
  {
   "cell_type": "code",
   "execution_count": null,
   "metadata": {},
   "outputs": [],
   "source": [
    "# check if query has at least 1 correct answer\n",
    "def query_at_least_one_correct(samples_data_test, query_index):\n",
    "    \n",
    "    samples = samples_data_test[query_index]['samples']\n",
    "    acc = [samples[sample_index]['exec_acc'] for sample_index in range(len(samples))]\n",
    "    \n",
    "    return True if 1 in acc else False\n",
    "\n",
    "\n",
    "# check how many correct responses\n",
    "def query_num_correct(samples_data_test, query_index):\n",
    "    \n",
    "    samples = samples_data_test[query_index]['samples']\n",
    "    acc = [samples[sample_index]['exec_acc'] for sample_index in range(len(samples))]\n",
    "    \n",
    "    return sum(acc)\n",
    "\n",
    "\n",
    "# return accuracies and confidences of queries with specified indices\n",
    "def acc_and_conf_specified_indices(samples_data_test, conf_dict, query_indices):\n",
    "    \n",
    "    acc_list = \\\n",
    "    [samples_data_test[query_index]['samples'][sample_index]['exec_acc'] for query_index in query_indices]\n",
    "    conf_list = [conf_dict[query_index][sample_index] for query_index in query_indices]\n",
    "    \n",
    "    return acc_list, conf_list"
   ]
  },
  {
   "cell_type": "code",
   "execution_count": null,
   "metadata": {},
   "outputs": [],
   "source": [
    "# get indices\n",
    "indices_C, indices_I = [], []\n",
    "\n",
    "num_queries = len(samples_data_test)\n",
    "for query_index in range(num_queries):\n",
    "    \n",
    "    if query_at_least_one_correct(samples_data_test, query_index):\n",
    "        indices_C.append(query_index)\n",
    "    else:\n",
    "        indices_I.append(query_index)\n",
    "\n",
    "print(len(indices_C))\n",
    "print(len(indices_I))"
   ]
  },
  {
   "cell_type": "code",
   "execution_count": null,
   "metadata": {},
   "outputs": [],
   "source": [
    "# 3 different subsets of queries: \n",
    "\n",
    "\n",
    "num_bins = 10\n",
    "\n",
    "num_queries = len(samples_data_test)\n",
    "num_samples = len(samples_data_test[0]['samples'])\n",
    "\n",
    "indices_of_interest = [0]\n",
    "\n",
    "for sample_index in indices_of_interest:\n",
    "    print('sample index:', sample_index)\n",
    "    \n",
    "    acc_list_C, conf_list_C = acc_and_conf_specified_indices(samples_data_test, conf_dict, indices_C)\n",
    "    acc_list_I, conf_list_I = acc_and_conf_specified_indices(samples_data_test, conf_dict, indices_I)\n",
    "    \n",
    "    auroc_C, auarc_C, ece_C, ace_C = evaluation.evaluate_metrics(acc_list_C, conf_list_C, num_bins)\n",
    "    print('auroc_C:', auroc_C)\n",
    "    print('auarc_C:', auarc_C)\n",
    "    print('ece_C:', ece_C)\n",
    "    print('ace_C:', ace_C)\n",
    "    print('\\n')\n",
    "    auroc_I, auarc_I, ece_I, ace_I = evaluation.evaluate_metrics(acc_list_I, conf_list_I, num_bins)\n",
    "    print('auroc_I:', auroc_I)\n",
    "    print('auarc_I:', auarc_I)\n",
    "    print('ece_I', ece_I)\n",
    "    print('ace_I:', ace_I)\n",
    "    print('\\n')\n",
    "\n"
   ]
  },
  {
   "cell_type": "code",
   "execution_count": null,
   "metadata": {},
   "outputs": [],
   "source": [
    "# separate out confidences samples\n",
    "\n",
    "conf_correct_given_C = [conf_list_C[i] for i in range(len(conf_list_C)) if acc_list_C[i] == 1]\n",
    "conf_incorrect_given_C = [conf_list_C[i] for i in range(len(conf_list_C)) if acc_list_C[i] != 1]\n",
    "\n",
    "print(len(conf_correct_given_C))\n",
    "print(len(conf_incorrect_given_C))\n",
    "print(len(conf_list_I))\n"
   ]
  },
  {
   "cell_type": "code",
   "execution_count": null,
   "metadata": {},
   "outputs": [],
   "source": [
    "212+64+241"
   ]
  },
  {
   "cell_type": "code",
   "execution_count": null,
   "metadata": {},
   "outputs": [],
   "source": [
    "# subset based on correct\n",
    "\n",
    "indices_C_only, indices_C_more, indices_C_none = [], [], []\n",
    "\n",
    "num_queries = len(samples_data_test)\n",
    "for query_index in range(num_queries):\n",
    "    \n",
    "    if query_num_correct(samples_data_test, query_index)>1:\n",
    "        indices_C_more.append(query_index)\n",
    "    elif query_num_correct(samples_data_test, query_index)==1:\n",
    "        indices_C_only.append(query_index)\n",
    "    else:\n",
    "        indices_C_none.append(query_index)\n",
    "\n",
    "print(len(indices_C_more))\n",
    "print(len(indices_C_only))\n",
    "print(len(indices_C_none))"
   ]
  },
  {
   "cell_type": "code",
   "execution_count": null,
   "metadata": {},
   "outputs": [],
   "source": [
    "\n",
    "indices_of_interest = [0]\n",
    "\n",
    "for sample_index in indices_of_interest:\n",
    "    print('sample index:', sample_index)\n",
    "    \n",
    "    acc_list_C_more, conf_list_C_more = acc_and_conf_specified_indices(samples_data_test, conf_dict, indices_C_more)\n",
    "    acc_list_C_only, conf_list_C_only = acc_and_conf_specified_indices(samples_data_test, conf_dict, indices_C_only)\n",
    "\n",
    "# separate out confidences samples\n",
    "\n",
    "conf_C_more = [conf_list_C_more[i] for i in range(len(conf_list_C_more)) if acc_list_C_more[i] == 1]\n",
    "conf_C_only = [conf_list_C_only[i] for i in range(len(conf_list_C_only)) if acc_list_C_only[i] == 1]\n",
    "\n",
    "#conf_incorrect_given_C = [conf_list_C[i] for i in range(len(conf_list_C)) if acc_list_C[i] != 1]\n",
    "\n",
    "print(len(conf_C_more))\n",
    "print(len(conf_C_only))\n",
    "print(len(conf_list_I))"
   ]
  },
  {
   "cell_type": "code",
   "execution_count": null,
   "metadata": {},
   "outputs": [],
   "source": []
  },
  {
   "cell_type": "code",
   "execution_count": null,
   "metadata": {},
   "outputs": [],
   "source": [
    "# plot histograms\n",
    "def plot_3_histograms(x, y, z, title, xlabel, xleg, yleg, zleg):\n",
    "    \n",
    "    bins = np.linspace(0, 1, 30)\n",
    "    plt.hist(x, bins, alpha=0.5, label=xleg, color = 'blue', edgecolor = 'black')\n",
    "    plt.hist(y, bins, alpha=0.5, label=yleg, color = 'green', edgecolor = 'black')\n",
    "    plt.hist(z, bins, alpha=0.5, label=zleg, color = 'red', edgecolor = 'black')\n",
    "    \n",
    "    \n",
    "    #plt.hist([x, y, z], bins, label=['x', 'y', 'z'], color = ['blue', 'green', 'red'])\n",
    "    \n",
    "    plt.ylim(0, 100)\n",
    "\n",
    "    \n",
    "    plt.title(title)\n",
    "    plt.legend(loc='upper right')\n",
    "    plt.xlabel(xlabel)\n",
    "    plt.show()"
   ]
  },
  {
   "cell_type": "code",
   "execution_count": null,
   "metadata": {},
   "outputs": [],
   "source": [
    "\n",
    "\n",
    "x = conf_correct_given_C\n",
    "y = conf_incorrect_given_C\n",
    "z = conf_list_I\n",
    "\n",
    "#plt.style.use('seaborn-deep')\n",
    "\n",
    "title = 'spi-dev,sample ' + str(indices_of_interest[0]+1) + ',' + sampling_type + ': ' + setting\n",
    "xlabel = 'auroc: ' + str(round(auroc,2)) + '; auarc: ' + str(round(auarc,2))\n",
    "\n",
    "xleg = 'Correct (given >=1 correct)'\n",
    "yleg = 'Incorrect (given >=1 correct)'\n",
    "zleg = 'Incorrect (none correct)'\n",
    "\n",
    "plot_3_histograms(x, y, z, title, xlabel, xleg, yleg, zleg)"
   ]
  },
  {
   "cell_type": "code",
   "execution_count": null,
   "metadata": {},
   "outputs": [],
   "source": [
    "\n",
    "x = conf_C_more\n",
    "y = conf_C_only\n",
    "z = conf_list_I\n",
    "\n",
    "title = ''\n",
    "xlabel = ''\n",
    "\n",
    "xleg = ''\n",
    "yleg = ''\n",
    "zleg = ''\n",
    "\n",
    "plot_3_histograms(x, y, z, title, xlabel, xleg, yleg, zleg)"
   ]
  },
  {
   "cell_type": "code",
   "execution_count": null,
   "metadata": {},
   "outputs": [],
   "source": [
    "y"
   ]
  },
  {
   "cell_type": "code",
   "execution_count": null,
   "metadata": {},
   "outputs": [],
   "source": [
    "x"
   ]
  },
  {
   "cell_type": "code",
   "execution_count": null,
   "metadata": {},
   "outputs": [],
   "source": []
  },
  {
   "cell_type": "code",
   "execution_count": null,
   "metadata": {},
   "outputs": [],
   "source": [
    "a = [1, 2, 5, 2]\n",
    "np.sort(a)"
   ]
  },
  {
   "cell_type": "code",
   "execution_count": null,
   "metadata": {},
   "outputs": [],
   "source": []
  },
  {
   "cell_type": "code",
   "execution_count": null,
   "metadata": {},
   "outputs": [],
   "source": [
    "\n",
    "setting = 'gens|jaccard|agg-arith'\n",
    "\n",
    "auroc_C: 0.6122494103773585\n",
    "auarc_C: 0.8326357557964694\n",
    "ece_C: 0.24953483669186094\n",
    "ace_C: 0.3697668712225828\n",
    "\n",
    "    \n",
    "setting = 'gens|jaccard|lr'\n",
    "    \n",
    "auroc_C: 0.6477004716981132\n",
    "auarc_C: 0.8569164676903078\n",
    "ece_C: 0.350790054880888\n",
    "ace_C: 0.43944556313746763\n"
   ]
  },
  {
   "cell_type": "code",
   "execution_count": null,
   "metadata": {},
   "outputs": [],
   "source": []
  },
  {
   "cell_type": "code",
   "execution_count": null,
   "metadata": {},
   "outputs": [],
   "source": []
  },
  {
   "cell_type": "code",
   "execution_count": null,
   "metadata": {},
   "outputs": [],
   "source": []
  },
  {
   "cell_type": "code",
   "execution_count": null,
   "metadata": {},
   "outputs": [],
   "source": []
  },
  {
   "cell_type": "code",
   "execution_count": null,
   "metadata": {},
   "outputs": [],
   "source": []
  },
  {
   "cell_type": "code",
   "execution_count": null,
   "metadata": {},
   "outputs": [],
   "source": [
    "# mixed approach\n",
    "p_0_C, p_1_C, alpha_C, beta_C, p_0_I, p_1_I, alpha_I, beta_I = \\\n",
    "uq_from_similarity.fit_sim_dist_mixed(beta_data_given_correct, beta_data_given_incorrect, eps)"
   ]
  },
  {
   "cell_type": "code",
   "execution_count": null,
   "metadata": {},
   "outputs": [],
   "source": [
    "p_0_C, p_1_C, alpha_C, beta_C, p_0_I, p_1_I, alpha_I, beta_I"
   ]
  },
  {
   "cell_type": "code",
   "execution_count": null,
   "metadata": {},
   "outputs": [],
   "source": []
  },
  {
   "cell_type": "code",
   "execution_count": null,
   "metadata": {},
   "outputs": [],
   "source": [
    "all_beta_data"
   ]
  },
  {
   "cell_type": "code",
   "execution_count": null,
   "metadata": {},
   "outputs": [],
   "source": [
    "plt.hist(all_beta_data,bins=30, density=True)\n",
    "plt.show()\n",
    "\n",
    "print('Mean:', np.mean(all_beta_data))"
   ]
  },
  {
   "cell_type": "code",
   "execution_count": null,
   "metadata": {},
   "outputs": [],
   "source": [
    "plt.hist(beta_data_given_correct,bins=30, density=True)\n",
    "plt.show()\n",
    "\n",
    "print('Mean:', np.mean(beta_data_given_correct))\n",
    "\n",
    "num_zeros = sum(np.array(beta_data_given_correct)==0.0001)\n",
    "num_ones = sum(np.array(beta_data_given_correct)==0.9999)\n",
    "tot = len(beta_data_given_correct)\n",
    "\n",
    "print('Fraction of zeros:', num_zeros/tot)\n",
    "print('Fraction of ones:', num_ones/tot)\n"
   ]
  },
  {
   "cell_type": "code",
   "execution_count": null,
   "metadata": {},
   "outputs": [],
   "source": []
  },
  {
   "cell_type": "code",
   "execution_count": null,
   "metadata": {},
   "outputs": [],
   "source": [
    "plt.hist(beta_data_given_incorrect,bins=30, density=True)\n",
    "plt.show()\n",
    "\n",
    "print('Mean:', np.mean(beta_data_given_incorrect))\n",
    "\n",
    "num_zeros = sum(np.array(beta_data_given_incorrect)==0.0001)\n",
    "num_ones = sum(np.array(beta_data_given_incorrect)==0.9999)\n",
    "\n",
    "tot = len(beta_data_given_incorrect)\n",
    "\n",
    "print('Fraction of zeros:', num_zeros/tot)\n",
    "print('Fraction of ones:', num_ones/tot)"
   ]
  },
  {
   "cell_type": "code",
   "execution_count": null,
   "metadata": {},
   "outputs": [],
   "source": []
  },
  {
   "cell_type": "code",
   "execution_count": null,
   "metadata": {},
   "outputs": [],
   "source": [
    "# plotting for mixed approach\n",
    "def plot_data_mixed(data, p_0, p_1, alpha, beta, eps, plot_title, bins=30):\n",
    "    \n",
    "    plt.hist(data,bins=30, density=True)\n",
    "    #fitted_beta=lambda x,a,b:gammaf(a+b)/gammaf(a)/gammaf(b)*x**(a-1)*(1-x)**(b-1) #pdf of beta\n",
    "    #fitted_mixed=lambda x:uq_from_similarity.compute_pdf_mixed(x,p_0,p_1,alpha,beta,eps) #pdf of mixed\n",
    "\n",
    "    xx = np.linspace(eps,1-eps,len(data))\n",
    "    yy = [uq_from_similarity.compute_pdf_mixed(x,p_0,p_1,alpha,beta,eps) for x in xx]\n",
    "    \n",
    "    #plt.plot(xx,fitted(xx,a,b),'r')\n",
    "    plt.plot(xx,yy,'r')\n",
    "    plt.xlabel('Similarity')\n",
    "    plt.title(plot_title)\n",
    "    \n",
    "    print('Mean:', np.mean(data))\n",
    "\n"
   ]
  },
  {
   "cell_type": "code",
   "execution_count": null,
   "metadata": {},
   "outputs": [],
   "source": [
    "# plot for correct -- mixed\n",
    "\n",
    "plot_title = 'Distribution of Similarity Given Correct Response'\n",
    "plot_data_mixed(beta_data_given_correct, p_0_C, p_1_C, alpha_C, beta_C, eps, plot_title)\n"
   ]
  },
  {
   "cell_type": "code",
   "execution_count": null,
   "metadata": {},
   "outputs": [],
   "source": [
    "# plot for incorrect -- mixed\n",
    "\n",
    "plot_title = 'Distribution of Similarity Given Incorrect Response'\n",
    "plot_data_mixed(beta_data_given_incorrect, p_0_I, p_1_I, alpha_I, beta_I, eps, plot_title)"
   ]
  },
  {
   "cell_type": "code",
   "execution_count": null,
   "metadata": {},
   "outputs": [],
   "source": []
  },
  {
   "cell_type": "code",
   "execution_count": null,
   "metadata": {},
   "outputs": [],
   "source": [
    "def plot_data(data, weights, alphas, betas, plot_title, bins=30):\n",
    "    \n",
    "    plt.hist(data,bins=30, density=True)\n",
    "    #fitted_beta=lambda x,a,b:gammaf(a+b)/gammaf(a)/gammaf(b)*x**(a-1)*(1-x)**(b-1) #pdf of beta\n",
    "    fitted_beta_mix=lambda x,weights,alphas,betas:uq_from_similarity.compute_pdf_mixture_betas(x, weights, alphas, betas) #pdf of beta\n",
    "\n",
    "    xx=np.linspace(0,max(data),len(data))\n",
    "    #plt.plot(xx,fitted(xx,a,b),'r')\n",
    "    plt.plot(xx,fitted_beta_mix(xx,weights,alphas,betas),'r')\n",
    "    plt.xlabel('Similarity')\n",
    "    plt.title(plot_title)\n",
    "    \n",
    "    print('Mean:', np.mean(data))\n"
   ]
  },
  {
   "cell_type": "code",
   "execution_count": null,
   "metadata": {},
   "outputs": [],
   "source": [
    "from scipy.special import gamma as gammaf\n",
    "\n",
    "    \n",
    "plot_title = 'Distribution of Similarity Given Correct Response'\n",
    "plot_data(beta_data_given_correct, weights_C, alphas_C, betas_C, plot_title)\n"
   ]
  },
  {
   "cell_type": "code",
   "execution_count": null,
   "metadata": {},
   "outputs": [],
   "source": [
    "\n",
    "plot_title = 'Distribution of Similarity Given Incorrect Response'\n",
    "plot_data(beta_data_given_incorrect, weights_I, alphas_I, betas_I, plot_title)\n"
   ]
  },
  {
   "cell_type": "code",
   "execution_count": null,
   "metadata": {},
   "outputs": [],
   "source": []
  },
  {
   "cell_type": "markdown",
   "metadata": {},
   "source": [
    "### Similarity Distribution"
   ]
  },
  {
   "cell_type": "code",
   "execution_count": 6,
   "metadata": {},
   "outputs": [
    {
     "name": "stdout",
     "output_type": "stream",
     "text": [
      "Obtained similarity pairs up to query: 50\n",
      "Obtained similarity pairs up to query: 100\n",
      "Obtained similarity pairs up to query: 150\n",
      "Obtained similarity pairs up to query: 200\n",
      "Obtained similarity pairs up to query: 250\n",
      "Obtained similarity pairs up to query: 300\n",
      "Obtained similarity pairs up to query: 350\n",
      "Obtained similarity pairs up to query: 400\n",
      "Obtained similarity pairs up to query: 450\n",
      "Obtained similarity pairs up to query: 500\n"
     ]
    }
   ],
   "source": [
    "#sim_type = 'jaccard'\n",
    "#sim_type = 'output_type'\n",
    "\n",
    "#sim_type = 'rouge1'\n",
    "sim_type = 'sbert'\n",
    "\n",
    "\n",
    "#all_pairwise_sims, all_pairwise_sims_dict = uq_from_similarity.get_all_pairwise_sims(samples_data_valid, sim_type)\n",
    "\n",
    "all_pairwise_sims, all_pairwise_sims_dict = uq_from_similarity.get_all_pairwise_sims(samples_data, sim_type)"
   ]
  },
  {
   "cell_type": "code",
   "execution_count": 7,
   "metadata": {},
   "outputs": [],
   "source": [
    "# plot sim histograms\n",
    "def plot_sim_histogram(x, sim_type):\n",
    "    \n",
    "    bins = np.linspace(0, 1, 30)\n",
    "    plt.hist(x, bins, alpha=0.5, color = 'blue', edgecolor = 'black')\n",
    "    \n",
    "    #plt.ylim(0, 50)\n",
    "    \n",
    "    plt.title(sim_type)\n",
    "    #plt.legend(loc='upper right')\n",
    "    #plt.xlabel(xlabel)\n",
    "    plt.show()\n"
   ]
  },
  {
   "cell_type": "code",
   "execution_count": 8,
   "metadata": {},
   "outputs": [
    {
     "data": {
      "image/png": "[encoded data removed]",
      "text/plain": [
       "<Figure size 640x480 with 1 Axes>"
      ]
     },
     "metadata": {},
     "output_type": "display_data"
    }
   ],
   "source": [
    "plot_sim_histogram(all_pairwise_sims, sim_type)"
   ]
  },
  {
   "cell_type": "code",
   "execution_count": 9,
   "metadata": {},
   "outputs": [],
   "source": [
    "# save output\n",
    "save_bool = True\n",
    "\n",
    "output_filename = 'sim_dict_' + dataset + '_' + split + '_' + sampling_type + '_' + sim_type + '.json'\n",
    "\n",
    "if save_bool:\n",
    "    with open(output_filename, \"w\") as outfile:\n",
    "        json.dump(all_pairwise_sims_dict, outfile)"
   ]
  },
  {
   "cell_type": "code",
   "execution_count": null,
   "metadata": {},
   "outputs": [],
   "source": [
    "q = 'Which employee received the biggest bonus? Give me the employee name.'\n",
    "\n",
    "all_pairwise_sims_dict[q]"
   ]
  },
  {
   "cell_type": "code",
   "execution_count": null,
   "metadata": {},
   "outputs": [],
   "source": []
  },
  {
   "cell_type": "markdown",
   "metadata": {},
   "source": [
    "### Prepare Files for Confidence Estimates"
   ]
  },
  {
   "cell_type": "code",
   "execution_count": null,
   "metadata": {},
   "outputs": [],
   "source": [
    "# load data\n",
    "dataset = 'spider_deepseeker'\n",
    "\n",
    "sampling_type = 'temp_all'\n",
    "split = 'dev'\n",
    "\n",
    "temperature = None\n",
    "\n",
    "samples_data = evaluation.load_and_process_samples_data_spider_deepseeker(sampling_type)\n"
   ]
  },
  {
   "cell_type": "code",
   "execution_count": null,
   "metadata": {},
   "outputs": [],
   "source": [
    "samples_data[0]"
   ]
  },
  {
   "cell_type": "code",
   "execution_count": null,
   "metadata": {},
   "outputs": [],
   "source": [
    "# inputs\n",
    "\n",
    "frac_test = 0.5 \n",
    "num_test_samples = 5\n"
   ]
  },
  {
   "cell_type": "code",
   "execution_count": null,
   "metadata": {},
   "outputs": [],
   "source": [
    "output_dict = evaluation.run_conf_estimates_exp(samples_data, frac_test, num_test_samples)"
   ]
  },
  {
   "cell_type": "code",
   "execution_count": null,
   "metadata": {},
   "outputs": [],
   "source": [
    "len(output_dict)"
   ]
  },
  {
   "cell_type": "code",
   "execution_count": null,
   "metadata": {},
   "outputs": [],
   "source": [
    "len(output_dict[1])"
   ]
  },
  {
   "cell_type": "code",
   "execution_count": null,
   "metadata": {},
   "outputs": [],
   "source": [
    "save_bool = True\n",
    "\n",
    "# save file\n",
    "output_filename = 'gens_with_conf_estimates_' + dataset + '.json'\n",
    "\n",
    "if save_bool:\n",
    "    with open(output_filename, \"w\") as outfile:\n",
    "        json.dump(output_dict, outfile)"
   ]
  },
  {
   "cell_type": "code",
   "execution_count": null,
   "metadata": {},
   "outputs": [],
   "source": []
  },
  {
   "cell_type": "markdown",
   "metadata": {},
   "source": [
    "### Plotting for Temperature Sampling"
   ]
  },
  {
   "cell_type": "markdown",
   "metadata": {},
   "source": [
    "\n",
    "Dataset: spider realistic dev\n",
    "Model: few-shot codellama\n",
    "\n",
    "Metric: jaccard\n",
    "Aggregation: agg-arith\n",
    "\n",
    "\n",
    "temp -- of eval interest: 0.25\n"
   ]
  },
  {
   "cell_type": "code",
   "execution_count": null,
   "metadata": {},
   "outputs": [],
   "source": []
  },
  {
   "cell_type": "markdown",
   "metadata": {},
   "source": [
    "jaccard\n",
    "\n",
    "standard sampling: \n",
    "\n",
    "1st sample:\n",
    "\n",
    "AUROC:  0.6715274239275942 +/- 0.030955133150776137\n",
    "AUARC:  0.7381052317383355 +/- 0.022475156758779258\n",
    "ACE:  0.11499890749366781 +/- 0.020210089072388707\n",
    "\n",
    "2nd sample:\n",
    "\n",
    "standard sampling: \n",
    "\n",
    "AUROC:  0.6988542725294471 +/- 0.030685782804071415\n",
    "AUARC:  0.7262212377889504 +/- 0.02491604506128242\n",
    "ACE:  0.14979396621077828 +/- 0.023505781303082368\n",
    "\n",
    "3rd sample:\n",
    "\n",
    "AUROC:  0.6802945716123265 +/- 0.016747977116716217\n",
    "AUARC:  0.7036767743029976 +/- 0.019730853225696288\n",
    "ACE:  0.155472584918251 +/- 0.023152421887036465\n",
    "\n",
    "4th sample:\n",
    "\n",
    "AUROC:  0.6850454703658431 +/- 0.030093294824111216\n",
    "AUARC:  0.7121245852665202 +/- 0.01804517741229672\n",
    "ACE:  0.15930309301647042 +/- 0.014126292216105299\n",
    "\n",
    "5th sample:\n",
    "\n",
    "AUROC:  0.6902926368769771 +/- 0.031434190809190854\n",
    "AUARC:  0.7374556951539741 +/- 0.026726245024067397\n",
    "ACE:  0.13145709089879945 +/- 0.021317872514140995\n",
    "\n",
    "\n",
    "temp first:\n",
    "\n",
    "1st sample:\n",
    "\n",
    "AUROC:  0.6722678096642681 +/- 0.03197867541768018\n",
    "AUARC:  0.7470540193143892 +/- 0.018753071437359825\n",
    "ACE:  0.05981865235225403 +/- 0.020342527936712693\n",
    "\n",
    "\n",
    "temp all:\n",
    "\n",
    "1st sample:\n",
    "\n",
    "AUROC:  0.6960616248971305 +/- 0.026515853309571957\n",
    "AUARC:  0.754043193948329 +/- 0.013206575714485858\n",
    "ACE:  0.0956279809070239 +/- 0.023043937395023292\n",
    "\n",
    "\n"
   ]
  },
  {
   "cell_type": "markdown",
   "metadata": {},
   "source": [
    "rougeL\n",
    "\n",
    "standard sampling:\n",
    "\n",
    "1st sample:\n",
    "\n",
    "AUROC:  0.665485064369838 +/- 0.03211427416884871\n",
    "AUARC:  0.7400940683811765 +/- 0.031812240804933445\n",
    "ECE:  0.26027309874785765 +/- 0.029390112022898887\n",
    "ACE:  0.2950174388512969 +/- 0.0437466420147061\n",
    "\n",
    "2nd sample\n",
    "\n",
    "AUROC:  0.6898181374476972 +/- 0.039632485569985554\n",
    "AUARC:  0.726693663902688 +/- 0.027998098952632944\n",
    "ECE:  0.29645712049287054 +/- 0.022527543997335753\n",
    "ACE:  0.3378579348574041 +/- 0.03394498745903274\n",
    "\n",
    "3rd sample:\n",
    "\n",
    "AUROC:  0.6862600734204213 +/- 0.025739183002955357\n",
    "AUARC:  0.71084067521362 +/- 0.028547571709891084\n",
    "ACE:  0.3477886752712793 +/- 0.037617064654273946\n",
    "\n",
    "4th sample:\n",
    "\n",
    "AUROC:  0.6861745739196113 +/- 0.03569238495468824\n",
    "AUARC:  0.720242761215828 +/- 0.013753719050465518\n",
    "ECE:  0.3099274229047243 +/- 0.01645258545713385\n",
    "ACE:  0.3526083741458691 +/- 0.024343504706742625\n",
    "\n",
    "5th sample:\n",
    "\n",
    "AUROC:  0.687892872330129 +/- 0.034961080586080606\n",
    "AUARC:  0.7274905722094094 +/- 0.02249048222309047\n",
    "ACE:  0.3168516416854746 +/- 0.024100071082566427\n",
    "\n",
    "\n",
    "temp first:\n",
    "\n",
    "1st sample:\n",
    "\n",
    "AUROC:  0.6592060179121952 +/- 0.03412032055691766\n",
    "AUARC:  0.7240328460385832 +/- 0.024843876260371378\n",
    "ACE:  0.09941845805433451 +/- 0.02981854462304978\n",
    "\n",
    "\n",
    "temp all:\n",
    "\n",
    "1st sample:\n",
    "\n",
    "AUROC:  0.70758169397265 +/- 0.028355717829405935\n",
    "AUARC:  0.7529548956158996 +/- 0.009157411164903262\n",
    "ECE:  0.052389900006842585 +/- 0.02537955631066807\n",
    "ACE:  0.08421359513895857 +/- 0.027732655562890535\n"
   ]
  },
  {
   "cell_type": "code",
   "execution_count": null,
   "metadata": {},
   "outputs": [],
   "source": [
    "ace_vec_standard_jaccard = []\n",
    "\n",
    "\n"
   ]
  },
  {
   "cell_type": "code",
   "execution_count": null,
   "metadata": {},
   "outputs": [],
   "source": [
    "def plot_grouped_charts(X, standard, temp, hybrid, y_lim_upper, metric):\n",
    "    \n",
    "    N = len(X)\n",
    "    ind = np.arange(N)  \n",
    "    width = 0.25   \n",
    "    \n",
    "    X_axis = np.arange(len(X)) \n",
    "  \n",
    "    plt.bar(ind, standard, width, label = 'Standard') \n",
    "    plt.bar(ind+width, temp, width, label = 'Temperature') \n",
    "    plt.bar(ind+width*2, hybrid, width, label = 'Hybrid') \n",
    "    plt.ylim(0, y_lim_upper)\n",
    "  \n",
    "    plt.xticks(ind+width, X, fontsize=18) \n",
    "    #plt.xlabel(\"Similarity Metrics\") \n",
    "    plt.ylabel(metric, fontsize=20) \n",
    "    #plt.title(\"Comparing Sampling Techniques: \" + metric, fontsize=16) \n",
    "    plt.title(\"Sampling Type Comparison\", fontsize=18) \n",
    "    plt.legend(fontsize=12) \n",
    "    plt.show() \n",
    "      "
   ]
  },
  {
   "cell_type": "code",
   "execution_count": null,
   "metadata": {},
   "outputs": [],
   "source": [
    "# 3 METRICS\n",
    "\n",
    "# plot ACE\n",
    "\n",
    "X = ['Jaccard', 'RougeL', 'Output type'] \n",
    "\n",
    "standard = [0.373, 0.537, 0.439] \n",
    "temp = [0.162, 0.311, 0.409] \n",
    "hybrid = [0.126, 0.300, 0.413]\n",
    "\n",
    "y_lim_upper = 0.6\n",
    "metric = 'ACE'\n",
    "\n",
    "plot_grouped_charts(X, standard, temp, hybrid, y_lim_upper, metric)"
   ]
  },
  {
   "cell_type": "code",
   "execution_count": null,
   "metadata": {},
   "outputs": [],
   "source": [
    "# 3 METRICS\n",
    "\n",
    "# plot AUROC\n",
    "\n",
    "X = ['Jaccard', 'RougeL', 'Output type'] \n",
    "\n",
    "standard = [0.64, 0.60, 0.53] \n",
    "temp = [0.64, 0.62, 0.62] \n",
    "hybrid = [0.66, 0.65, 0.65]\n",
    "\n",
    "y_lim_upper = 1\n",
    "metric = 'AUROC'\n",
    "\n",
    "plot_grouped_charts(X, standard, temp, hybrid, y_lim_upper, metric)"
   ]
  },
  {
   "cell_type": "code",
   "execution_count": null,
   "metadata": {},
   "outputs": [],
   "source": [
    "# 3 METRICS\n",
    "\n",
    "# plot AUARC\n",
    "\n",
    "X = ['Jaccard', 'RougeL', 'Output type'] \n",
    "\n",
    "standard = [0.49, 0.47, 0.42] \n",
    "temp = [0.51, 0.48, 0.48] \n",
    "hybrid = [0.53, 0.51, 0.51]\n",
    "\n",
    "y_lim_upper = 1\n",
    "metric = 'AUARC'\n",
    "\n",
    "plot_grouped_charts(X, standard, temp, hybrid, y_lim_upper, metric)"
   ]
  },
  {
   "cell_type": "code",
   "execution_count": null,
   "metadata": {},
   "outputs": [],
   "source": []
  },
  {
   "cell_type": "code",
   "execution_count": null,
   "metadata": {},
   "outputs": [],
   "source": []
  },
  {
   "cell_type": "code",
   "execution_count": null,
   "metadata": {},
   "outputs": [],
   "source": []
  }
 ],
 "metadata": {
  "anaconda-cloud": {},
  "kernelspec": {
   "display_name": "myenv",
   "language": "python",
   "name": "myenv"
  },
  "language_info": {
   "codemirror_mode": {
    "name": "ipython",
    "version": 3
   },
   "file_extension": ".py",
   "mimetype": "text/x-python",
   "name": "python",
   "nbconvert_exporter": "python",
   "pygments_lexer": "ipython3",
   "version": "3.8.1"
  }
 },
 "nbformat": 4,
 "nbformat_minor": 1
}
